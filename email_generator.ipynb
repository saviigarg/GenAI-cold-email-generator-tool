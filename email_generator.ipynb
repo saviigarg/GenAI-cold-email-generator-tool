{
 "cells": [
  {
   "cell_type": "code",
   "execution_count": 3,
   "id": "674c38d4-7e6a-4aea-b0a0-9eedd4bc9cc8",
   "metadata": {},
   "outputs": [
    {
     "name": "stdout",
     "output_type": "stream",
     "text": [
      "Başvurun: Senior Sales Associate - NIKE (Chattarpur - Delhi)\n",
      "\n",
      "İş ArayınGezintiyi atlaİş ArayınNIKE, INC. JOBSSözleşmeli İşlerJoin The Talent CommunityNIKE'ta YaşamGenel BakışFaydalarMarkalarGenel BakışJordanConverseTakımlarGenel Bakışİdari Destekİleri Düzey YenilikAir Manufacturing InnovationHavacılıkİletişimMüşteri HizmetleriTasarımDijitalİdari İşlerFinans ve MuhasebeHükümet ve Kamu İlişkileriİnsan KaynaklarıVeri ve AnalizHukukÜretim ve MühendislikPazarlamaSatış GeliştirmePlanningGizlilikTedarikÜrün Yaratma, Geliştirme ve YönetmeKurumsal PerakendePerakende MağazaSatışSosyal ve Toplumsal EtkiSpor PazarlamasıStratejik PlanlamaTedarik Zinciri, Dağıtım ve LojistikSürdürülebilirlikTeknolojiKonumlarGenel BakışNIke WHQNIke New York Genel MerkeziAvrupa Genel Merkezi: HIlversum, HollandaELC: Laakdal, BelgiumGreater ChIna HQÇeşitlilik, Eşitlik ve KapsayıcılıkGenel BakışAskeriEngellilik ve KapsayıcılıkKapsayıcılık: YerlilerStajlarRetail StoresSenior Sales Associate - NIKE (Chattarpur - Delhi)Chattarpur, IndiaNIKE, Inc. Takımına KatılınNIKE, Inc. dünyanın en iyi sporcularını giydirmekten çok daha fazlasını yapar. Potansiyellerin keşfedildiği, sınırların aşıldığı ve mümkün olanın sınırlarının zorlandığı bir yerdir. Şirket büyüme, düşünme, hayal etme ve yaratma konusunda potansiyeli olan insanların peşindedir. Kültürü çeşitliliği kucaklayarak ve hayal gücünü ödüllendirerek yükselir. Marka başarılı, lider ve vizyoner bireyleri arar. NIKE, Inc.ta herkes zorlu ve sürekli değişen bir oyuna becerilerini ve tutkusunu taşır.Perakendede çalışmak NIKE, Inc.ın yüzü olmaktır. Ürün bilgisine ve müşteri hizmetlerine yılmadan odaklanan Nike Retail takımları değerli deneyimlerini tüketicilerle her gün paylaşır. Şanghay'dan San Francisco'ya her bir mağaza eşsiz bir bakış açısına sahiptir ve esin kaynağı olan spor ve stil tutkunları barındırır. Nike Retail kariyeri yaratıcılık ve hırs gerektirir ve sektördeki en iyi sporcular, takım arkadaşları ve perakende ortaklarından bazılarıyla birlikte büyüme fırsatı sunar.WHO ARE WE LOOKING FOR?We are looking for a Nike Store Lead (Senior Sales Associate) whose mission will be to deliver a premium consumer experience by building the bond between consumer and brand with the highest level of service and applying brand stories to the retail setting.WHAT WILL YOU WORK ON?You will utilize exceptional customer service skills, sales techniques, and product knowledge to connect customers with the right product and drive sales. You will maintain knowledge of all store departments and be able to perform all activities of associates in addition to handling more complex transactions or customer service situations. You will provide expertise in one or more areas or functions (Shipping and Receiving, Cashier duties, and Sales.) You will seek ongoing training and education to further develop your expertise. You will assist Managers in conducting formal onboarding and training programs for associates. You will assist with loss prevention efforts by providing proactive customer service and coordinating the work of other associates (but not a formal supervisor.) You may have keyholder responsibilities.WHAT YOU BRINGHigh school diploma or equivalent3 years of retail experienceAbility to communicate in EnglishBasic computer skills, including Microsoft Office knowledgeMust be able to work evenings, weekends, and holidays as neededPhysical requirements include the ability to twist, bend, squat, reach, climb a ladder and stand for extended periods of time*Please note that no relocation package will be provided.Of course, our commitments don't stop with our customers. If you're up to the challenge of Nike Retail we'll make it worth your while. You'll be working in a great team environment, with access to the latest and greatest Nike products and apparel. Not to mention, a compensation and benefits package that's among the best around. Join us and see what it means to become part of the Nike Retail experience.NIKE, Inc. büyüme yönelimli bir şirkettir ve kendisiyle birlikte büyümeyi amaçlayan takım arkadaşları arayışındadır. Nike cömert bir ücret paketi, rahat bir çalışma ortamı, çeşitli ve katılımcı bir kültür ve mesleki gelişim için hareketli bir atmosfer sunar. Konumu veya rolü ne olursa olsun, her Nike çalışanı tek bir misyon doğrultusunda hareket eder: Dünyadaki her sporcuya* ilham ve yenilik vermek.NIKE, Inc. çeşitlilik sergileyen bir işgücü çalıştırmayı taahhüt eder. Nitelikli adaylar ırk, renk, din, cinsiyet, milliyet, yaş, cinsel yönelim, cinsel kimlik, cinsel kimliğin ifadesi, gazi statüsü veya engellilik gibi kişisel niteliklerinden bağımsız olarak değerlendirmeye alınacaktır.İşe Alım SüreciNIKE, Inc. olarak seçkin, katılımcı, ilginç ve özgün bir aday deneyimi yaşatmayı vaat ediyoruz. Bu vaadi yerine getirmek, gelebileceğiniz en iyi noktaya gelmenize olanak sağlayacağımız anlamına geliyor ve bunun için işe alım sürecinin nasıl işlediğini anlamanız gerekiyor. Şeffaflık en önemli unsur.\n",
      "\n",
      "* Bu genel bakış, kurumsal pozisyonlar için işe alım sürecimizi açıklamaktadır. Kurumsal olmayan pozisyonlar için farklı işe alım adımları olabilir.Şimdi başlaFaydalarUlaşımdan finansal sağlığa kadar, çalışanlarımıza sürekli yatırım yaparak işte ve iş dışında mükemmelliği yakalamalarına yardımcı oluyoruz. Burada çalışan herkes tüm potansiyelini hayata geçirebilmelidir.Çalışanlara Destek ProgramıTatillerSağlık PlanıÜcretli İzin (PTO)Ürün İndirimleriDaha fazla bilgi edinMAĞAZA BULNIKE JOURNALÜYE OLGERİ BİLDİRİMPROMOSYON KODLARIYARDIM ALYARDIM ALSipariş DurumuKargo ve TeslimatİadelerÖdeme SeçenekleriBize UlaşınNIKE HAKKINDANIKE HAKKINDAHaberlerKariyerYatırımcılarSürdürülebilirlikNIKE UYGULAMALARINIKE UYGULAMALARINike AppNike Run ClubNike Training ClubSNKRSTürkiye© 2024 Nike, Inc. Tüm Hakları SaklıdırRehberlerNike AdaptNike FlyEaseNike FreeNike VaporflyNBA Taraftar GiysileriNike AirNike FlyknitNike PegasusNike Zoom FlyNike AirtopiaNike Air MaxNike FlyleatherNike ReactNike ZoomXKullanım ŞartlarıSatış ŞartlarıŞirket AyrıntılarıGizlilik ve Tanımlama Bilgisi Politikası\n"
     ]
    }
   ],
   "source": [
    "import os\n",
    "from langchain_community.document_loaders import WebBaseLoader\n",
    "\n",
    "# Set a User-Agent to identify your requests\n",
    "os.environ[\"USER_AGENT\"] = \"Mozilla/5.0 (Windows NT 10.0; Win64; x64) AppleWebKit/537.36 (KHTML, like Gecko) Chrome/109.0.0.0 Safari/537.36\"\n",
    "\n",
    "loader = WebBaseLoader(\"https://jobs.nike.com/tr/job/R-46380\")\n",
    "\n",
    "# Load the page and extract the content\n",
    "documents = loader.load()\n",
    "page_data = documents[0].page_content  # Use page_content instead of page\n",
    "print(page_data)\n"
   ]
  },
  {
   "cell_type": "code",
   "execution_count": 5,
   "id": "4f5bc2ae-2a6a-4f38-abb6-753dbc604f86",
   "metadata": {},
   "outputs": [
    {
     "name": "stdout",
     "output_type": "stream",
     "text": [
      "The first person to land on the moon was Neil Armstrong. He stepped out of the lunar module Eagle and onto the moon's surface on July 20, 1969, during the Apollo 11 mission. Armstrong famously declared, \"That's one small step for man, one giant leap for mankind,\" as he became the first human to set foot on the moon.\n"
     ]
    }
   ],
   "source": [
    "from langchain_groq import ChatGroq\n",
    "\n",
    "llm = ChatGroq(\n",
    "    temperature=0,\n",
    "    api_key=\"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\",\n",
    "    model_name=\"llama-3.1-70b-versatile\"\n",
    ")\n",
    "\n",
    "response = llm.invoke(\"The first person to land on the moon was...\")\n",
    "print(response.content)\n"
   ]
  },
  {
   "cell_type": "code",
   "execution_count": 6,
   "id": "bf47ec80-1942-47e3-9d16-a423e8cbae5a",
   "metadata": {},
   "outputs": [
    {
     "name": "stdout",
     "output_type": "stream",
     "text": [
      "```json\n",
      "{\n",
      "  \"role\": \"Senior Sales Associate\",\n",
      "  \"experience\": \"3 years of retail experience\",\n",
      "  \"skills\": [\n",
      "    \"Exceptional customer service skills\",\n",
      "    \"Sales techniques\",\n",
      "    \"Product knowledge\",\n",
      "    \"Basic computer skills\",\n",
      "    \"Microsoft Office knowledge\",\n",
      "    \"English communication\"\n",
      "  ],\n",
      "  \"description\": \"Deliver a premium consumer experience by building the bond between consumer and brand with the highest level of service and applying brand stories to the retail setting.\"\n",
      "}\n",
      "```\n"
     ]
    }
   ],
   "source": [
    "from langchain_core.prompts import PromptTemplate\n",
    "\n",
    "prompt_extract = PromptTemplate.from_template(\n",
    "    \"\"\"\n",
    "    ### SCRAPED TEXT FROM WEBSITE:\n",
    "    {page_data}\n",
    "    ### INSTRUCTION:\n",
    "    The scrapped text is from the career's page of a website.\n",
    "    Your job is to extract the job postings and return them in JSON format containing the following keys: 'role', 'experience', 'skills' and 'description'.\n",
    "    Only return the valid JSON.\n",
    "    ### VALID JSON (NO PREAMBLE):\n",
    "    \"\"\"\n",
    ")\n",
    "\n",
    "chain_extract = prompt_extract | llm\n",
    "res = chain_extract.invoke(input={'page_data':page_data})\n",
    "print(res.content)\n"
   ]
  },
  {
   "cell_type": "code",
   "execution_count": 7,
   "id": "88d48c8b-aadc-47dd-b069-445d8609b360",
   "metadata": {},
   "outputs": [
    {
     "data": {
      "text/plain": [
       "{'role': 'Senior Sales Associate',\n",
       " 'experience': '3 years of retail experience',\n",
       " 'skills': ['Exceptional customer service skills',\n",
       "  'Sales techniques',\n",
       "  'Product knowledge',\n",
       "  'Basic computer skills',\n",
       "  'Microsoft Office knowledge',\n",
       "  'English communication'],\n",
       " 'description': 'Deliver a premium consumer experience by building the bond between consumer and brand with the highest level of service and applying brand stories to the retail setting.'}"
      ]
     },
     "execution_count": 7,
     "metadata": {},
     "output_type": "execute_result"
    }
   ],
   "source": [
    "from langchain_core.output_parsers import JsonOutputParser\n",
    "\n",
    "json_parser = JsonOutputParser()\n",
    "json_res = json_parser.parse(res.content)\n",
    "json_res"
   ]
  },
  {
   "cell_type": "code",
   "execution_count": 8,
   "id": "2e456862-ac79-46f9-ac94-9632ed4433bb",
   "metadata": {},
   "outputs": [
    {
     "data": {
      "text/html": [
       "<div>\n",
       "<style scoped>\n",
       "    .dataframe tbody tr th:only-of-type {\n",
       "        vertical-align: middle;\n",
       "    }\n",
       "\n",
       "    .dataframe tbody tr th {\n",
       "        vertical-align: top;\n",
       "    }\n",
       "\n",
       "    .dataframe thead th {\n",
       "        text-align: right;\n",
       "    }\n",
       "</style>\n",
       "<table border=\"1\" class=\"dataframe\">\n",
       "  <thead>\n",
       "    <tr style=\"text-align: right;\">\n",
       "      <th></th>\n",
       "      <th>Techstack</th>\n",
       "      <th>Links</th>\n",
       "    </tr>\n",
       "  </thead>\n",
       "  <tbody>\n",
       "    <tr>\n",
       "      <th>0</th>\n",
       "      <td>React, Node.js, MongoDB</td>\n",
       "      <td>https://example.com/react-portfolio</td>\n",
       "    </tr>\n",
       "    <tr>\n",
       "      <th>1</th>\n",
       "      <td>Angular,.NET, SQL Server</td>\n",
       "      <td>https://example.com/angular-portfolio</td>\n",
       "    </tr>\n",
       "    <tr>\n",
       "      <th>2</th>\n",
       "      <td>Vue.js, Ruby on Rails, PostgreSQL</td>\n",
       "      <td>https://example.com/vue-portfolio</td>\n",
       "    </tr>\n",
       "    <tr>\n",
       "      <th>3</th>\n",
       "      <td>Python, Django, MySQL</td>\n",
       "      <td>https://example.com/python-portfolio</td>\n",
       "    </tr>\n",
       "    <tr>\n",
       "      <th>4</th>\n",
       "      <td>Java, Spring Boot, Oracle</td>\n",
       "      <td>https://example.com/java-portfolio</td>\n",
       "    </tr>\n",
       "    <tr>\n",
       "      <th>5</th>\n",
       "      <td>Flutter, Firebase, GraphQL</td>\n",
       "      <td>https://example.com/flutter-portfolio</td>\n",
       "    </tr>\n",
       "    <tr>\n",
       "      <th>6</th>\n",
       "      <td>WordPress, PHP, MySQL</td>\n",
       "      <td>https://example.com/wordpress-portfolio</td>\n",
       "    </tr>\n",
       "    <tr>\n",
       "      <th>7</th>\n",
       "      <td>Magento, PHP, MySQL</td>\n",
       "      <td>https://example.com/magento-portfolio</td>\n",
       "    </tr>\n",
       "    <tr>\n",
       "      <th>8</th>\n",
       "      <td>React Native, Node.js, MongoDB</td>\n",
       "      <td>https://example.com/react-native-portfolio</td>\n",
       "    </tr>\n",
       "    <tr>\n",
       "      <th>9</th>\n",
       "      <td>iOS, Swift, Core Data</td>\n",
       "      <td>https://example.com/ios-portfolio</td>\n",
       "    </tr>\n",
       "    <tr>\n",
       "      <th>10</th>\n",
       "      <td>Android, Java, Room Persistence</td>\n",
       "      <td>https://example.com/android-portfolio</td>\n",
       "    </tr>\n",
       "    <tr>\n",
       "      <th>11</th>\n",
       "      <td>Kotlin, Android, Firebase</td>\n",
       "      <td>https://example.com/kotlin-android-portfolio</td>\n",
       "    </tr>\n",
       "    <tr>\n",
       "      <th>12</th>\n",
       "      <td>Android TV, Kotlin, Android NDK</td>\n",
       "      <td>https://example.com/android-tv-portfolio</td>\n",
       "    </tr>\n",
       "    <tr>\n",
       "      <th>13</th>\n",
       "      <td>iOS, Swift, ARKit</td>\n",
       "      <td>https://example.com/ios-ar-portfolio</td>\n",
       "    </tr>\n",
       "    <tr>\n",
       "      <th>14</th>\n",
       "      <td>Cross-platform, Xamarin, Azure</td>\n",
       "      <td>https://example.com/xamarin-portfolio</td>\n",
       "    </tr>\n",
       "    <tr>\n",
       "      <th>15</th>\n",
       "      <td>Backend, Kotlin, Spring Boot</td>\n",
       "      <td>https://example.com/kotlin-backend-portfolio</td>\n",
       "    </tr>\n",
       "    <tr>\n",
       "      <th>16</th>\n",
       "      <td>Frontend, TypeScript, Angular</td>\n",
       "      <td>https://example.com/typescript-frontend-portfolio</td>\n",
       "    </tr>\n",
       "    <tr>\n",
       "      <th>17</th>\n",
       "      <td>Full-stack, JavaScript, Express.js</td>\n",
       "      <td>https://example.com/full-stack-js-portfolio</td>\n",
       "    </tr>\n",
       "    <tr>\n",
       "      <th>18</th>\n",
       "      <td>Machine Learning, Python, TensorFlow</td>\n",
       "      <td>https://example.com/ml-python-portfolio</td>\n",
       "    </tr>\n",
       "    <tr>\n",
       "      <th>19</th>\n",
       "      <td>DevOps, Jenkins, Docker</td>\n",
       "      <td>https://example.com/devops-portfolio</td>\n",
       "    </tr>\n",
       "  </tbody>\n",
       "</table>\n",
       "</div>"
      ],
      "text/plain": [
       "                               Techstack  \\\n",
       "0                React, Node.js, MongoDB   \n",
       "1               Angular,.NET, SQL Server   \n",
       "2      Vue.js, Ruby on Rails, PostgreSQL   \n",
       "3                  Python, Django, MySQL   \n",
       "4              Java, Spring Boot, Oracle   \n",
       "5             Flutter, Firebase, GraphQL   \n",
       "6                  WordPress, PHP, MySQL   \n",
       "7                    Magento, PHP, MySQL   \n",
       "8         React Native, Node.js, MongoDB   \n",
       "9                  iOS, Swift, Core Data   \n",
       "10       Android, Java, Room Persistence   \n",
       "11             Kotlin, Android, Firebase   \n",
       "12       Android TV, Kotlin, Android NDK   \n",
       "13                     iOS, Swift, ARKit   \n",
       "14        Cross-platform, Xamarin, Azure   \n",
       "15          Backend, Kotlin, Spring Boot   \n",
       "16         Frontend, TypeScript, Angular   \n",
       "17    Full-stack, JavaScript, Express.js   \n",
       "18  Machine Learning, Python, TensorFlow   \n",
       "19               DevOps, Jenkins, Docker   \n",
       "\n",
       "                                                Links  \n",
       "0                 https://example.com/react-portfolio  \n",
       "1               https://example.com/angular-portfolio  \n",
       "2                   https://example.com/vue-portfolio  \n",
       "3                https://example.com/python-portfolio  \n",
       "4                  https://example.com/java-portfolio  \n",
       "5               https://example.com/flutter-portfolio  \n",
       "6             https://example.com/wordpress-portfolio  \n",
       "7               https://example.com/magento-portfolio  \n",
       "8          https://example.com/react-native-portfolio  \n",
       "9                   https://example.com/ios-portfolio  \n",
       "10              https://example.com/android-portfolio  \n",
       "11       https://example.com/kotlin-android-portfolio  \n",
       "12           https://example.com/android-tv-portfolio  \n",
       "13               https://example.com/ios-ar-portfolio  \n",
       "14              https://example.com/xamarin-portfolio  \n",
       "15       https://example.com/kotlin-backend-portfolio  \n",
       "16  https://example.com/typescript-frontend-portfolio  \n",
       "17        https://example.com/full-stack-js-portfolio  \n",
       "18            https://example.com/ml-python-portfolio  \n",
       "19               https://example.com/devops-portfolio  "
      ]
     },
     "execution_count": 8,
     "metadata": {},
     "output_type": "execute_result"
    }
   ],
   "source": [
    "import pandas as pd \n",
    "\n",
    "df = pd.read_csv(\"my_portfolio.csv\")\n",
    "df"
   ]
  },
  {
   "cell_type": "code",
   "execution_count": 10,
   "id": "8c0ae4d4-3652-4ca7-bca7-79912686b13e",
   "metadata": {},
   "outputs": [],
   "source": [
    "import chromadb\n",
    "import uuid  # Import the uuid module\n",
    "\n",
    "# Initialize the ChromaDB client with a persistent store\n",
    "client = chromadb.PersistentClient('vectorstore')\n",
    "\n",
    "# Get or create a collection named \"portfolio\"\n",
    "collection = client.get_or_create_collection(name=\"portfolio\")\n",
    "\n",
    "# If the collection is empty, populate it with data from the dataframe\n",
    "if not collection.count():\n",
    "    for _, row in df.iterrows():\n",
    "        collection.add(documents=[row[\"Techstack\"]],  # Wrap in a list if a single document\n",
    "                       metadatas={\"links\": row[\"Links\"]},\n",
    "                       ids=[str(uuid.uuid4())])  # Generate a unique ID for each document\n"
   ]
  },
  {
   "cell_type": "code",
   "execution_count": 12,
   "id": "ffff1ae0-1429-42d6-baea-55a90fc381b6",
   "metadata": {},
   "outputs": [
    {
     "data": {
      "text/plain": [
       "[[{'links': 'https://example.com/ml-python-portfolio'},\n",
       "  {'links': 'https://example.com/python-portfolio'}],\n",
       " [{'links': 'https://example.com/react-native-portfolio'},\n",
       "  {'links': 'https://example.com/react-portfolio'}]]"
      ]
     },
     "execution_count": 12,
     "metadata": {},
     "output_type": "execute_result"
    }
   ],
   "source": [
    "links= collection.query(query_texts=[\"Experience in Python\", \"Expertise in React Native\"], n_results=2).get('metadatas', [])\n",
    "links"
   ]
  },
  {
   "cell_type": "code",
   "execution_count": 14,
   "id": "30fb7f33-624b-4def-8e84-e4af1b4f239f",
   "metadata": {},
   "outputs": [
    {
     "data": {
      "text/plain": [
       "{'role': 'Senior Sales Associate',\n",
       " 'experience': '3 years of retail experience',\n",
       " 'skills': ['Exceptional customer service skills',\n",
       "  'Sales techniques',\n",
       "  'Product knowledge',\n",
       "  'Basic computer skills',\n",
       "  'Microsoft Office knowledge',\n",
       "  'English communication'],\n",
       " 'description': 'Deliver a premium consumer experience by building the bond between consumer and brand with the highest level of service and applying brand stories to the retail setting.'}"
      ]
     },
     "execution_count": 14,
     "metadata": {},
     "output_type": "execute_result"
    }
   ],
   "source": [
    "job"
   ]
  },
  {
   "cell_type": "code",
   "execution_count": 13,
   "id": "41d72822-4b47-4697-8128-a5c8e85fc003",
   "metadata": {},
   "outputs": [
    {
     "data": {
      "text/plain": [
       "['Exceptional customer service skills',\n",
       " 'Sales techniques',\n",
       " 'Product knowledge',\n",
       " 'Basic computer skills',\n",
       " 'Microsoft Office knowledge',\n",
       " 'English communication']"
      ]
     },
     "execution_count": 13,
     "metadata": {},
     "output_type": "execute_result"
    }
   ],
   "source": [
    "job = json_res\n",
    "job['skills']"
   ]
  },
  {
   "cell_type": "code",
   "execution_count": 15,
   "id": "6c83819e-6e7f-4801-9ad6-47e0b90fef97",
   "metadata": {},
   "outputs": [
    {
     "name": "stdout",
     "output_type": "stream",
     "text": [
      "Subject: Enhancing Retail Experience with AtliQ's Automated Solutions\n",
      "\n",
      "Dear Hiring Manager,\n",
      "\n",
      "I came across the Senior Sales Associate role at your esteemed organization and was impressed by the emphasis on delivering a premium consumer experience. As a Business Development Executive at AtliQ, I believe our AI and software consulting services can complement your retail goals by streamlining processes, enhancing customer engagement, and driving sales growth.\n",
      "\n",
      "At AtliQ, we have a proven track record of empowering enterprises with tailored solutions that foster scalability, process optimization, cost reduction, and heightened overall efficiency. Our expertise in developing automated tools can help your retail team focus on what matters most - building strong relationships with customers and promoting your brand story.\n",
      "\n",
      "To demonstrate our capabilities, I'd like to highlight some of our notable projects:\n",
      "\n",
      "* Our machine learning and Python expertise has enabled businesses to gain valuable insights from customer data, allowing for more personalized marketing strategies. You can explore our portfolio at https://example.com/ml-python-portfolio and https://example.com/python-portfolio.\n",
      "* We have also developed innovative React and React Native solutions that have transformed the retail experience for our clients. Please visit https://example.com/react-native-portfolio and https://example.com/react-portfolio to learn more about our work.\n",
      "\n",
      "By leveraging AtliQ's technical expertise, your retail team can benefit from:\n",
      "\n",
      "* Enhanced customer service through automated tools and data-driven insights\n",
      "* Improved sales techniques and product knowledge management\n",
      "* Streamlined basic computer skills and Microsoft Office knowledge through customized training programs\n",
      "* Effective English communication and brand storytelling through our content creation services\n",
      "\n",
      "I'd be delighted to discuss how AtliQ can support your retail goals and enhance the overall consumer experience. Please feel free to reply to this email or schedule a call at your convenience.\n",
      "\n",
      "Best regards,\n",
      "\n",
      "Mohan\n",
      "Business Development Executive\n",
      "AtliQ\n"
     ]
    }
   ],
   "source": [
    "prompt_email = PromptTemplate.from_template(\n",
    "        \"\"\"\n",
    "        ### JOB DESCRIPTION:\n",
    "        {job_description}\n",
    "        \n",
    "        ### INSTRUCTION:\n",
    "        You are Mohan, a business development executive at AtliQ. AtliQ is an AI & Software Consulting company dedicated to facilitating\n",
    "        the seamless integration of business processes through automated tools. \n",
    "        Over our experience, we have empowered numerous enterprises with tailored solutions, fostering scalability, \n",
    "        process optimization, cost reduction, and heightened overall efficiency. \n",
    "        Your job is to write a cold email to the client regarding the job mentioned above describing the capability of AtliQ \n",
    "        in fulfilling their needs.\n",
    "        Also add the most relevant ones from the following links to showcase Atliq's portfolio: {link_list}\n",
    "        Remember you are Mohan, BDE at AtliQ. \n",
    "        Do not provide a preamble.\n",
    "        ### EMAIL (NO PREAMBLE):\n",
    "        \n",
    "        \"\"\"\n",
    "        )\n",
    "\n",
    "chain_email = prompt_email | llm\n",
    "res = chain_email.invoke({\"job_description\": str(job), \"link_list\": links})\n",
    "print(res.content)"
   ]
  },
  {
   "cell_type": "code",
   "execution_count": null,
   "id": "9e5c3436-6b7d-4d25-b2c9-1faca2cad539",
   "metadata": {},
   "outputs": [],
   "source": []
  }
 ],
 "metadata": {
  "kernelspec": {
   "display_name": "Python 3 (ipykernel)",
   "language": "python",
   "name": "python3"
  },
  "language_info": {
   "codemirror_mode": {
    "name": "ipython",
    "version": 3
   },
   "file_extension": ".py",
   "mimetype": "text/x-python",
   "name": "python",
   "nbconvert_exporter": "python",
   "pygments_lexer": "ipython3",
   "version": "3.12.7"
  }
 },
 "nbformat": 4,
 "nbformat_minor": 5
}
